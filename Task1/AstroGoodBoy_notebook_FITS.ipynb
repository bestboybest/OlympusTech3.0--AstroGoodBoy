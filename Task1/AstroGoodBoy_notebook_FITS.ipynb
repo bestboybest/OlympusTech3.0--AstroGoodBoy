{
 "cells": [
  {
   "cell_type": "markdown",
   "id": "346602f4",
   "metadata": {},
   "source": [
    "# Voyage of the Data Ship\n",
    "\n",
    "Our task is to plot the 10 given FITS (Flexible Image Transport System) files transmitted by the data ship back to Earth after its long voyage across the vastness of space.\n",
    "\n",
    "We will first plot these FITS files, and then explain the cosmic phenomenon observed in these files captured by the data ship."
   ]
  },
  {
   "cell_type": "code",
   "execution_count": 2,
   "id": "50b83713",
   "metadata": {},
   "outputs": [],
   "source": [
    "#importing necessary libraries\n",
    "\n",
    "from astropy.io import fits\n",
    "from astropy.visualization import ZScaleInterval\n",
    "import matplotlib.pyplot as plt"
   ]
  },
  {
   "cell_type": "code",
   "execution_count": 34,
   "id": "e1df7f0b",
   "metadata": {},
   "outputs": [],
   "source": [
    "#Loading the fits files \n",
    "\n",
    "mainDir = '../Data/Fits_Files/'\n",
    "\n",
    "q1 = fits.open(mainDir + 'q1.fits')\n",
    "q2 = fits.open(mainDir + 'q2.fits')\n",
    "q3 = fits.open(mainDir + 'q3.fits')\n",
    "q4 = fits.open(mainDir + 'q4.fits')\n",
    "q5 = fits.open(mainDir + 'q5.fits')\n",
    "q6 = fits.open(mainDir + 'q6.fits')\n",
    "q7 = fits.open(mainDir + 'q7.fits')\n",
    "q8 = fits.open(mainDir + 'q8.fits')\n",
    "q9 = fits.open(mainDir + 'q9.fits')\n",
    "q10 = fits.open(mainDir + 'q10.fits')"
   ]
  },
  {
   "cell_type": "code",
   "execution_count": 35,
   "id": "fd0e7d8a",
   "metadata": {},
   "outputs": [
    {
     "name": "stdout",
     "output_type": "stream",
     "text": [
      "[<astropy.io.fits.hdu.image.PrimaryHDU object at 0x000001F935DE3110>] [<astropy.io.fits.hdu.image.PrimaryHDU object at 0x000001F935DE11D0>] [<astropy.io.fits.hdu.image.PrimaryHDU object at 0x000001F935DE0910>] [<astropy.io.fits.hdu.image.PrimaryHDU object at 0x000001F935DE1450>] [<astropy.io.fits.hdu.image.PrimaryHDU object at 0x000001F935DE25D0>] [<astropy.io.fits.hdu.image.PrimaryHDU object at 0x000001F935DE2710>] [<astropy.io.fits.hdu.image.PrimaryHDU object at 0x000001F935DE2850>] [<astropy.io.fits.hdu.image.PrimaryHDU object at 0x000001F935DE2990>] [<astropy.io.fits.hdu.image.PrimaryHDU object at 0x000001F935DE16D0>] [<astropy.io.fits.hdu.image.PrimaryHDU object at 0x000001F935DE1F90>]\n"
     ]
    }
   ],
   "source": [
    "print(q1, q2, q3,q4, q5, q6, q7, q8, q9, q10)\n",
    "\n",
    "#All files clearly only contain primary HDUs"
   ]
  },
  {
   "cell_type": "code",
   "execution_count": 25,
   "id": "2ddecdc9",
   "metadata": {},
   "outputs": [],
   "source": [
    "#Let's examine their primary HDU headers\n",
    "\n",
    "#q10[0].header\n",
    "\n",
    "#Examining the different headers, we find no useful information, but the fits files were written by skyview which is pretty interesting"
   ]
  },
  {
   "cell_type": "code",
   "execution_count": 38,
   "id": "758184db",
   "metadata": {},
   "outputs": [
    {
     "data": {
      "text/plain": [
       "array([[3639., 3639., 3453., ..., 3325., 6659., 6659.],\n",
       "       [3083., 3083., 3083., ..., 3325., 6659., 6659.],\n",
       "       [3083., 3083., 3083., ..., 3880., 6474., 6474.],\n",
       "       ...,\n",
       "       [2861., 3024., 3024., ..., 3329., 3329., 2958.],\n",
       "       [2861., 3024., 3024., ..., 3121., 3121., 3121.],\n",
       "       [2861., 3024., 3024., ..., 3121., 3121., 3121.]], dtype='>f8')"
      ]
     },
     "execution_count": 38,
     "metadata": {},
     "output_type": "execute_result"
    }
   ],
   "source": [
    "#Examining their datas\n",
    "\n",
    "q10[0].data\n",
    "\n",
    "#These all seem to be image data's so let's store them to visualize them"
   ]
  },
  {
   "cell_type": "code",
   "execution_count": 39,
   "id": "1f1e2e8c",
   "metadata": {},
   "outputs": [],
   "source": [
    "#Let's get their image datas to work on them then\n",
    "\n",
    "q1Data = q1[0].data\n",
    "q2Data = q2[0].data\n",
    "q3Data = q3[0].data\n",
    "q4Data = q4[0].data\n",
    "q5Data = q5[0].data\n",
    "q6Data = q6[0].data\n",
    "q7Data = q7[0].data\n",
    "q8Data = q8[0].data\n",
    "q9Data = q9[0].data\n",
    "q10Data = q10[0].data"
   ]
  },
  {
   "cell_type": "markdown",
   "id": "cb32a7a0",
   "metadata": {},
   "source": [
    "#### Now let's start our actual project and tackle the questions one at a time\n",
    "\n",
    "We will first make an initial plot of our image data, then try to make it look better using various pixel scaling methods and stuff, and we will get a final output image and save it in our plotted files folder.\n",
    "\n",
    "We will also update a document describing the cosmic phenomenon observed in the image file."
   ]
  },
  {
   "cell_type": "markdown",
   "id": "82531244",
   "metadata": {},
   "source": [
    "## Q1"
   ]
  },
  {
   "cell_type": "code",
   "execution_count": null,
   "id": "af962617",
   "metadata": {},
   "outputs": [],
   "source": []
  }
 ],
 "metadata": {
  "kernelspec": {
   "display_name": "base",
   "language": "python",
   "name": "python3"
  },
  "language_info": {
   "codemirror_mode": {
    "name": "ipython",
    "version": 3
   },
   "file_extension": ".py",
   "mimetype": "text/x-python",
   "name": "python",
   "nbconvert_exporter": "python",
   "pygments_lexer": "ipython3",
   "version": "3.13.5"
  }
 },
 "nbformat": 4,
 "nbformat_minor": 5
}
